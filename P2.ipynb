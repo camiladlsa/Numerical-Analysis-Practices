{
 "cells": [
  {
   "cell_type": "markdown",
   "id": "2a5c6112",
   "metadata": {},
   "source": [
   ]
  },
  {
   "cell_type": "markdown",
   "id": "8f16ba43",
   "metadata": {},
   "source": [
    "# Práctica 2 - Vectores, Mátrices y Gráficos"
   ]
  },
  {
   "cell_type": "markdown",
   "id": "6d74885e",
   "metadata": {},
   "source": [
    "## Vectores y Mátrices"
   ]
  },
  {
   "cell_type": "markdown",
   "id": "b68979b6",
   "metadata": {},
   "source": [
    "### Actividad 1"
   ]
  },
  {
   "cell_type": "code",
   "execution_count": 1,
   "id": "1da1568e",
   "metadata": {},
   "outputs": [
    {
     "name": "stdout",
     "output_type": "stream",
     "text": [
      "['Camila', 'Esther', 'Laura', 'Mariana', 'Isabel', 'Federico', 'Ignacio', 'Sergio', 'Carlos', 'Rafael']\n",
      "Camila y Rafael\n",
      "['Camila', 'Esther', 'Laura']\n",
      "['Camila', 'Esther', 'Laura', 'Mariana', 'Isabel', 'Federico', 'Ignacio', 'Sergio', 'Carlos']\n"
     ]
    }
   ],
   "source": [
    "lista = ['Camila', 'Esther', 'Laura', 'Mariana', 'Isabel', 'Federico', 'Ignacio', 'Sergio', 'Carlos', 'Rafael']\n",
    "\n",
    "#a)\n",
    "print(lista)\n",
    "\n",
    "#b) \n",
    "print(lista[0],'y', lista[-1])\n",
    "\n",
    "#c)\n",
    "print(lista[0:3])\n",
    "\n",
    "#d)\n",
    "del(lista[-1])\n",
    "print(lista)"
   ]
  },
  {
   "cell_type": "markdown",
   "id": "ffe339da",
   "metadata": {},
   "source": [
    "### Actividad 2"
   ]
  },
  {
   "cell_type": "code",
   "execution_count": 2,
   "id": "b2fdd3c5",
   "metadata": {},
   "outputs": [
    {
     "name": "stdout",
     "output_type": "stream",
     "text": [
      "{'Nancy': '04/12', 'Ignacio': '05/11', 'Federico': '06/10', 'Manuel': '07/09'}\n",
      "{'Nancy': '04/12', 'Ignacio': '08/09', 'Federico': '06/10', 'Manuel': '07/09'}\n",
      "{'Nancy': '04/12', 'Ignacio': '08/09', 'Federico': '06/10', 'Manuel': '07/09', 'Fabiola': '27/02'}\n"
     ]
    }
   ],
   "source": [
    "dicc = {'Nancy': '04/12', 'Ignacio': '05/11', 'Federico': '06/10', 'Manuel': '07/09'} # Fecha en formato 'DD-MM'\n",
    "\n",
    "#a)\n",
    "print(dicc)\n",
    "\n",
    "#b)\n",
    "dicc['Ignacio'] = '08/09'\n",
    "print(dicc)\n",
    "\n",
    "#c)\n",
    "dicc['Fabiola'] = '27/02'\n",
    "print(dicc)"
   ]
  },
  {
   "cell_type": "markdown",
   "id": "f8bf65b9",
   "metadata": {},
   "source": [
    "### Actividad 3"
   ]
  },
  {
   "cell_type": "code",
   "execution_count": 3,
   "id": "b3a65afe",
   "metadata": {},
   "outputs": [
    {
     "name": "stdout",
     "output_type": "stream",
     "text": [
      "[ 4  9 25 64 81]\n",
      "[ 0.90929743  0.14112001 -0.95892427  0.98935825  0.41211849]\n",
      "[ 5  6  8 11 12]\n",
      "[1.  1.5 2.5 4.  4.5]\n"
     ]
    }
   ],
   "source": [
    "import numpy as np\n",
    "\n",
    "a = np.array([2,3,5,8,9])\n",
    "\n",
    "#a) \n",
    "print(np.square(a)) \n",
    "\n",
    "#b)\n",
    "print(np.sin(a))\n",
    "\n",
    "#c)\n",
    "print(a+3)\n",
    "\n",
    "#d)\n",
    "print(a/2)"
   ]
  },
  {
   "cell_type": "markdown",
   "id": "96d07d92",
   "metadata": {},
   "source": [
    "### Actividad 4"
   ]
  },
  {
   "cell_type": "code",
   "execution_count": 4,
   "id": "dfe314de",
   "metadata": {},
   "outputs": [
    {
     "name": "stdout",
     "output_type": "stream",
     "text": [
      "[ 7  5  8 22 11]\n",
      "[ 10   6  15 112  18]\n",
      "161\n"
     ]
    }
   ],
   "source": [
    "b = np.array([5,2,3,14,2])\n",
    "\n",
    "#a)\n",
    "print(a+b)\n",
    "\n",
    "#b)\n",
    "print(a*b)\n",
    "\n",
    "#c)\n",
    "print(np.dot(a,b))"
   ]
  },
  {
   "cell_type": "markdown",
   "id": "2f9d250b",
   "metadata": {},
   "source": [
    "### Actividad 5"
   ]
  },
  {
   "cell_type": "code",
   "execution_count": 5,
   "id": "f69795c8",
   "metadata": {},
   "outputs": [
    {
     "name": "stdout",
     "output_type": "stream",
     "text": [
      "[10. 12. 14. 16. 18. 20.]\n"
     ]
    }
   ],
   "source": [
    "vector = np.linspace(10,20,6) # linspace(n-inicial, n-final[exclusivo], # de puntos deseados)\n",
    "print(vector)"
   ]
  },
  {
   "cell_type": "markdown",
   "id": "fdd63134",
   "metadata": {},
   "source": [
    "### Actividad 6"
   ]
  },
  {
   "cell_type": "code",
   "execution_count": 6,
   "id": "4cec2326",
   "metadata": {},
   "outputs": [
    {
     "name": "stdout",
     "output_type": "stream",
     "text": [
      "[ 1  4  7 10 13 16 19 22 25 28 31 34 37 40 43 46]\n"
     ]
    }
   ],
   "source": [
    "a = np.arange(1,49,3) # arange(n-inicial, n-final[exclusivo], tamaño de paso deseado)\n",
    "print(a)"
   ]
  },
  {
   "cell_type": "markdown",
   "id": "eb08fc53",
   "metadata": {},
   "source": [
    "### Actividad 7"
   ]
  },
  {
   "cell_type": "code",
   "execution_count": 7,
   "id": "07a57540",
   "metadata": {},
   "outputs": [],
   "source": [
    "X = np.array([1,5,6,7,3])\n",
    "Y = np.array([3,5,0,1,6])\n",
    "Z = np.array([[1],[4],[5],[2],[6]])\n",
    "A = np.array([[1,6,2],[4,5,0],[3,7,8]])\n",
    "B = np.array([[4,1],[2,5],[3,3]])"
   ]
  },
  {
   "cell_type": "code",
   "execution_count": 8,
   "id": "4ac15bdd",
   "metadata": {},
   "outputs": [
    {
     "name": "stdout",
     "output_type": "stream",
     "text": [
      "Vectores y matrices originales: \n",
      "\n",
      "X = [1 5 6 7 3]\n",
      "Y = [3 5 0 1 6]\n",
      "Z =\n",
      " [[1]\n",
      " [4]\n",
      " [5]\n",
      " [2]\n",
      " [6]]\n",
      "A =\n",
      " [[1 6 2]\n",
      " [4 5 0]\n",
      " [3 7 8]]\n",
      "B =\n",
      " [[4 1]\n",
      " [2 5]\n",
      " [3 3]]\n",
      "\n",
      "Resultados:\n",
      "\n",
      "i) 53 \n",
      "\n",
      "ii) [83] \n",
      "\n",
      "iii) [[ 2  6  7  8  4]\n",
      " [ 5  9 10 11  7]\n",
      " [ 6 10 11 12  8]\n",
      " [ 3  7  8  9  5]\n",
      " [ 7 11 12 13  9]] \n",
      "\n",
      "iv) [ 4 10  6  8  9] \n",
      "\n",
      "v) La operación no es posible, dado que no se cumple la propiedad de dimensión. \n",
      "\n",
      "vi) [[278 335]\n",
      " [218 293]\n",
      " [648 810]] \n",
      "\n",
      "vii) [[ 285  562  206]\n",
      " [ 244  445  112]\n",
      " [ 701 1365  670]] \n",
      "\n",
      "viii) La operación no es posible, dado que no se cumple la propiedad de dimensión. \n",
      "\n",
      "ix) [ 5 25 30 35 15] \n",
      "\n",
      "x) [[ 4]\n",
      " [13]\n",
      " [16]\n",
      " [ 7]\n",
      " [19]] \n",
      "\n",
      "xi) [[ 31  50  18]\n",
      " [ 24  49   8]\n",
      " [ 55 109  70]] \n",
      "\n",
      "xii) La operación no es posible, dado que no se cumple la propiedad de dimensión. \n",
      "\n",
      "xiii) [1.   2.5  1.5  2.   2.25] \n",
      "\n",
      "xiv) [ 1 25 36 49  9] \n",
      "\n",
      "xv) [[16  1]\n",
      " [ 4 25]\n",
      " [ 9  9]] \n",
      "\n",
      "xvi) [ 0.14112001 -4.79462137  0.          5.89029689 -0.83824649] \n",
      "\n",
      "vii) [1 5 3 7 3] \n",
      "\n",
      "viii) 19\n"
     ]
    }
   ],
   "source": [
    "#a) Realizar las siguientes operaciones en caso de ser posible:\n",
    "\n",
    "print(\"Vectores y matrices originales: \\n\")\n",
    "print('X =', X)\n",
    "print('Y =', Y)\n",
    "print('Z =\\n', Z)\n",
    "print('A =\\n', A)\n",
    "print('B =\\n', B)\n",
    "\n",
    "print(\"\\nResultados:\\n\")\n",
    "\n",
    "#i)\n",
    "print(\"i)\",X@Y,\"\\n\")\n",
    "#)ii\n",
    "print(\"ii)\",X@Z,\"\\n\")\n",
    "#)iii\n",
    "print(\"iii)\",X+Z,\"\\n\")\n",
    "#)iv\n",
    "print(\"iv)\",X+Y,\"\\n\")\n",
    "#)v\n",
    "print(\"v) La operación no es posible, dado que no se cumple la propiedad de dimensión.\",\"\\n\") # B=mxn y A=nxp donde nB != nA.\n",
    "#)vi\n",
    "print(\"vi)\",A@A@B,\"\\n\")\n",
    "#)vi\n",
    "print(\"vii)\",A@A@A,\"\\n\")\n",
    "#)viii\n",
    "print(\"viii) La operación no es posible, dado que no se cumple la propiedad de dimensión.\",\"\\n\") # B1=mxn y B2=nxp donde nB1 != nB2.\n",
    "#)ix\n",
    "print(\"ix)\",5*X,\"\\n\")\n",
    "#)x\n",
    "print(\"x)\",(3*Z)+1,\"\\n\")\n",
    "#)xi\n",
    "print(\"xi)\",A@A,\"\\n\")\n",
    "#)xii\n",
    "print(\"xii) La operación no es posible, dado que no se cumple la propiedad de dimensión.\",\"\\n\") # B1=mxn y B2=nxp donde nB1 != nB2.\n",
    "#)xiii\n",
    "print(\"xiii)\",(X+Y)/4,\"\\n\")\n",
    "#)xiv\n",
    "print(\"xiv)\",np.square(X),\"\\n\")\n",
    "#)xv\n",
    "print(\"xv)\",np.square(B),\"\\n\")\n",
    "#)xvi\n",
    "print(\"xvi)\",X*np.sin(Y),\"\\n\")\n",
    "#)xvii\n",
    "X[2] = X[4]\n",
    "print(\"vii)\",X,\"\\n\")\n",
    "#)xviii\n",
    "print(\"viii)\",np.sum(X)) # Suma realizada tras la sustitución del tercer elemento de X con el quinto, tal como se indica en el ejercicio anterior (xvii)."
   ]
  },
  {
   "cell_type": "code",
   "execution_count": 9,
   "id": "7768270f",
   "metadata": {},
   "outputs": [
    {
     "name": "stdout",
     "output_type": "stream",
     "text": [
      "i) El quinto elemento de X: 3 \n",
      "\n",
      "ii) Primeros tres elementos de X: [1 5 3] \n",
      "\n",
      "iii) Elemento de la fila 2 columna 3 de A: 0 \n",
      "\n",
      "vi) Tercera fila de A: [3 7 8] \n",
      "\n",
      "v) Primera y tercera columna de la segunda fila de A: [4 0] \n",
      "\n",
      "vi) Primera y tercera columna de A:\n",
      " [[1 2]\n",
      " [4 0]\n",
      " [3 8]] \n",
      "\n",
      "vii) Los cuatro elementos de las esquinas de A:\n",
      " [[1 2]\n",
      " [3 8]] \n",
      "\n"
     ]
    }
   ],
   "source": [
    "#b) Seleccionar los siguientes elementos:\n",
    "\n",
    "# Ejercicios realizados considerando la sustitución del tercer elemento de X con el quinto, tal como se indica en el ejercicio xvii.\n",
    "\n",
    "print(\"i) El quinto elemento de X:\",X[4],\"\\n\")\n",
    "print(\"ii) Primeros tres elementos de X:\",X[0:3],\"\\n\")\n",
    "print(\"iii) Elemento de la fila 2 columna 3 de A:\",A[1,2],\"\\n\")\n",
    "print(\"vi) Tercera fila de A:\",A[2],\"\\n\")\n",
    "print(\"v) Primera y tercera columna de la segunda fila de A:\",A[1,[0,2]],\"\\n\")\n",
    "print(\"vi) Primera y tercera columna de A:\\n\",A[:,[0,2]],\"\\n\")\n",
    "print(\"vii) Los cuatro elementos de las esquinas de A:\\n\",A[[0,-1]][:,[0,-1]],\"\\n\")"
   ]
  },
  {
   "cell_type": "code",
   "execution_count": 10,
   "id": "f761c43c",
   "metadata": {},
   "outputs": [
    {
     "name": "stdout",
     "output_type": "stream",
     "text": [
      "c) Eliminar la última fila de la matriz A:\n",
      " [[1 6 2]\n",
      " [4 5 0]]\n"
     ]
    }
   ],
   "source": [
    "#c) Eliminar la última fila de la matriz A\n",
    "\n",
    "print(\"c) Eliminar la última fila de la matriz A:\\n\",A[[0,1],:])"
   ]
  },
  {
   "cell_type": "markdown",
   "id": "2f26f040",
   "metadata": {},
   "source": [
    "### Actividad 8"
   ]
  },
  {
   "cell_type": "code",
   "execution_count": 11,
   "id": "4ac5c605",
   "metadata": {},
   "outputs": [
    {
     "name": "stdout",
     "output_type": "stream",
     "text": [
      "Matriz M: \n",
      " [[  1.           1.           1.           1.           1.\n",
      "    1.           1.           1.           1.           1.\n",
      "    1.           1.           1.           1.           1.\n",
      "    1.           1.           1.           1.           1.\n",
      "    1.           1.           1.           1.           1.\n",
      "    1.           1.           1.           1.           1.\n",
      "    1.           1.           1.           1.           1.\n",
      "    1.           1.           1.           1.           1.\n",
      "    1.           1.           1.           1.           1.\n",
      "    1.           1.           1.           1.           1.\n",
      "    1.           1.           1.           1.           1.\n",
      "    1.           1.           1.           1.           1.\n",
      "    1.           1.           1.           1.           1.\n",
      "    1.           1.           1.           1.           1.\n",
      "    1.           1.           1.           1.           1.\n",
      "    1.           1.           1.           1.           1.\n",
      "    1.           1.           1.           1.           1.\n",
      "    1.           1.           1.           1.           1.\n",
      "    1.           1.           1.           1.           1.\n",
      "    1.           1.           1.           1.           1.        ]\n",
      " [  2.           4.           6.           8.          10.\n",
      "   12.          14.          16.          18.          20.\n",
      "   22.          24.          26.          28.          30.\n",
      "   32.          34.          36.          38.          40.\n",
      "   42.          44.          46.          48.          50.\n",
      "   52.          54.          56.          58.          60.\n",
      "   62.          64.          66.          68.          70.\n",
      "   72.          74.          76.          78.          80.\n",
      "   82.          84.          86.          88.          90.\n",
      "   92.          94.          96.          98.         100.\n",
      "  102.         104.         106.         108.         110.\n",
      "  112.         114.         116.         118.         120.\n",
      "  122.         124.         126.         128.         130.\n",
      "  132.         134.         136.         138.         140.\n",
      "  142.         144.         146.         148.         150.\n",
      "  152.         154.         156.         158.         160.\n",
      "  162.         164.         166.         168.         170.\n",
      "  172.         174.         176.         178.         180.\n",
      "  182.         184.         186.         188.         190.\n",
      "  192.         194.         196.         198.         200.        ]\n",
      " [  3.43667541   4.35367429   3.85506276   4.66893636   3.81179353\n",
      "    3.46264682   3.31819846   3.62942318   3.45089825   4.09243569\n",
      "    3.63553912   4.18496533   4.3222425    4.91287449   4.38929613\n",
      "    3.06919832   4.05577942   3.69733182   4.6931056    3.4952906\n",
      "    3.35115791   3.95353861   4.9155703    3.78935048   4.3559842\n",
      "    3.07167247   4.45537493   4.41437614   3.96957399   3.41254478\n",
      "    3.28449525   3.7377758    3.64640783   3.94250544   3.38876432\n",
      "    4.57811825   4.81747423   4.32426648   4.61194803   4.27306151\n",
      "    4.47400268   3.83505302   3.62506341   3.59766922   3.18348979\n",
      "    3.17936191   4.68173872   3.37605026   3.69722972   4.80943511\n",
      "    4.62998347   3.84369653   4.15224064   3.07224232   3.45501\n",
      "    4.66305038   4.71411185   3.35227266   4.56362182   3.47574717\n",
      "    4.12529938   4.91701189   4.54485528   4.83695919   4.84963692\n",
      "    3.57674031   4.69841889   4.98152973   3.29633019   4.7899347\n",
      "    4.135062     3.56789454   3.99911768   4.76541208   4.57206209\n",
      "    4.30618506   4.95986045   4.08738251   4.78851923   4.48594805\n",
      "    4.32448821   4.65215709   4.24632032   4.43320234   3.89086543\n",
      "    4.84453809   4.7650946    4.57591876   4.40527832   4.15426652\n",
      "    3.94484884   4.79275961   4.45055133   3.14178668   3.11688626\n",
      "    3.01278606   3.99043142   4.83529623   3.85950456   4.53752412]] \n",
      "\n",
      "b) Seleccionar los elementos de la columna 10: [ 1.         20.          4.09243569]\n",
      "c) Sumar los elementos de la segunda fila: 10100.0\n"
     ]
    }
   ],
   "source": [
    "#a) \n",
    "\n",
    "# Definición de la matriz M:\n",
    "\n",
    "# Partiendo de que la fila_2 posee valores desde el 2 al 200 con un tamaño de paso de 2, tendremos 100 elementos por fila.\n",
    "\n",
    "fila_1 = np.ones(100) # Fila de unos con 100 elementos.\n",
    "fila_2 = np.arange(2, 201, 2) # arange(n-inicial, n-final [exclusivo], tamaño de paso deseado)\n",
    "fila_3 = np.random.uniform(3, 5, 100) # uniform(n-inicial, n-final [exclusivo], cantidad de valores)\n",
    "\n",
    "M = np.array([fila_1,fila_2,fila_3]) # Colocar filas individuales en 1 sola matriz (M)\n",
    "\n",
    "print(\"Matriz M:\",\"\\n\", M,\"\\n\")\n",
    "\n",
    "#b)\n",
    "print(\"b) Seleccionar los elementos de la columna 10:\", M[:,9])\n",
    "\n",
    "#c)\n",
    "print(\"c) Sumar los elementos de la segunda fila:\", np.sum(M[1,:]))"
   ]
  },
  {
   "cell_type": "markdown",
   "id": "cf4836cc",
   "metadata": {},
   "source": [
    "### Actividad 9"
   ]
  },
  {
   "cell_type": "code",
   "execution_count": 12,
   "id": "2426f7e4",
   "metadata": {},
   "outputs": [
    {
     "name": "stdout",
     "output_type": "stream",
     "text": [
      "El valor total de la cuenta es de: $ 15.49\n"
     ]
    }
   ],
   "source": [
    "precio_x_unidad = np.array([0.99,1.49,2.50,0.99,1.29])\n",
    "\n",
    "cantidad_de_unidades = np.array([4,3,1,2,2])\n",
    "\n",
    "print(\"El valor total de la cuenta es de: $\", precio_x_unidad@cantidad_de_unidades)"
   ]
  },
  {
   "cell_type": "markdown",
   "id": "315ee7e0",
   "metadata": {},
   "source": [
    "### Actividad 10"
   ]
  },
  {
   "cell_type": "code",
   "execution_count": 13,
   "id": "c6553968",
   "metadata": {},
   "outputs": [
    {
     "name": "stdout",
     "output_type": "stream",
     "text": [
      "Matriz M original: \n",
      " [[0.1 0.3 0.3]\n",
      " [2.  3.  9. ]\n",
      " [2.  4.  1. ]] \n",
      "\n",
      "a) Calcular la inversa de la matriz M:\n",
      " [[-15.71428571   0.42857143   0.85714286]\n",
      " [  7.61904762  -0.23809524  -0.14285714]\n",
      " [  0.95238095   0.0952381   -0.14285714]] \n",
      "\n",
      "b) Seleccionar los elementos de la tercera fila: [2. 4. 1.] \n",
      "\n",
      "c) Sumar los elementos de la primera columna: 4.1 \n",
      "\n",
      "d) Localizar los elementos menores que 2 y sustituirlos por 0:\n",
      " [[0. 0. 0.]\n",
      " [2. 3. 9.]\n",
      " [2. 4. 0.]] \n",
      "\n"
     ]
    }
   ],
   "source": [
    "# Definición de la matriz M: \n",
    "\n",
    "# Se ha colocado el nombre \"matriz_M\" para evitar inconvenientes, porque ya existe una matriz \"M\" en un ejercicio anterior.\n",
    "\n",
    "matriz_M = np.array(([0.1,0.3,0.3],[2,3,9],[2,4,1]))\n",
    "\n",
    "print(\"Matriz M original:\",\"\\n\",matriz_M,\"\\n\")\n",
    "\n",
    "#a)\n",
    "print(\"a) Calcular la inversa de la matriz M:\\n\", np.linalg.inv(matriz_M),\"\\n\")\n",
    "\n",
    "#b)\n",
    "print(\"b) Seleccionar los elementos de la tercera fila:\", matriz_M[2],\"\\n\")\n",
    "\n",
    "#c)\n",
    "print(\"c) Sumar los elementos de la primera columna:\", np.sum(matriz_M[:,0]),\"\\n\")\n",
    "\n",
    "#d)\n",
    "matriz_M[matriz_M < 2] = 0\n",
    "print(\"d) Localizar los elementos menores que 2 y sustituirlos por 0:\\n\",matriz_M,\"\\n\")"
   ]
  },
  {
   "cell_type": "markdown",
   "id": "5bdfd789",
   "metadata": {},
   "source": [
    "### Actividad 11"
   ]
  },
  {
   "cell_type": "code",
   "execution_count": 14,
   "id": "cece4696",
   "metadata": {},
   "outputs": [
    {
     "name": "stdout",
     "output_type": "stream",
     "text": [
      "Los valores de n son: [   1   10  100  500 1000 2000 4000 8000]\n",
      "Los valores de y son: [2.         2.59374246 2.70481383 2.71556852 2.71692393 2.71760257\n",
      " 2.71794212 2.71811196]\n",
      "\n",
      "El valor auténtico de e es: 2.718281828459045\n"
     ]
    }
   ],
   "source": [
    "vector_n = np.array([1,10,100,500,1000,2000,4000,8000])\n",
    "\n",
    "e = lambda vector_n: (1 + (1/vector_n))**vector_n\n",
    "\n",
    "vector_y = e(vector_n)\n",
    "\n",
    "print(\"Los valores de n son:\",vector_n)\n",
    "print(\"Los valores de y son:\",vector_y)\n",
    "print(\"\\nEl valor auténtico de e es:\",np.exp(1))"
   ]
  },
  {
   "cell_type": "markdown",
   "id": "c45b7ddd",
   "metadata": {},
   "source": [
    "### Actividad 12"
   ]
  },
  {
   "cell_type": "code",
   "execution_count": 15,
   "id": "1ce08459",
   "metadata": {},
   "outputs": [
    {
     "name": "stdout",
     "output_type": "stream",
     "text": [
      "a) La temperatura del vapor de agua es: 1367.363188426156 °K\n",
      "\n",
      "b.1) Valor de la temperatura (T) para 10 valores de la presión de 0 a 400 bar para el volumen de 1L:\n"
     ]
    },
    {
     "data": {
      "text/html": [
       "<div>\n",
       "<style scoped>\n",
       "    .dataframe tbody tr th:only-of-type {\n",
       "        vertical-align: middle;\n",
       "    }\n",
       "\n",
       "    .dataframe tbody tr th {\n",
       "        vertical-align: top;\n",
       "    }\n",
       "\n",
       "    .dataframe thead th {\n",
       "        text-align: right;\n",
       "    }\n",
       "</style>\n",
       "<table border=\"1\" class=\"dataframe\">\n",
       "  <thead>\n",
       "    <tr style=\"text-align: right;\">\n",
       "      <th></th>\n",
       "      <th>Presión (bar)</th>\n",
       "      <th>Temperatura (°K)</th>\n",
       "    </tr>\n",
       "  </thead>\n",
       "  <tbody>\n",
       "    <tr>\n",
       "      <th>0</th>\n",
       "      <td>0.000000</td>\n",
       "      <td>125.044975</td>\n",
       "    </tr>\n",
       "    <tr>\n",
       "      <th>1</th>\n",
       "      <td>44.444444</td>\n",
       "      <td>376.018352</td>\n",
       "    </tr>\n",
       "    <tr>\n",
       "      <th>2</th>\n",
       "      <td>88.888889</td>\n",
       "      <td>626.991728</td>\n",
       "    </tr>\n",
       "    <tr>\n",
       "      <th>3</th>\n",
       "      <td>133.333333</td>\n",
       "      <td>877.965104</td>\n",
       "    </tr>\n",
       "    <tr>\n",
       "      <th>4</th>\n",
       "      <td>177.777778</td>\n",
       "      <td>1128.938481</td>\n",
       "    </tr>\n",
       "    <tr>\n",
       "      <th>5</th>\n",
       "      <td>222.222222</td>\n",
       "      <td>1379.911857</td>\n",
       "    </tr>\n",
       "    <tr>\n",
       "      <th>6</th>\n",
       "      <td>266.666667</td>\n",
       "      <td>1630.885234</td>\n",
       "    </tr>\n",
       "    <tr>\n",
       "      <th>7</th>\n",
       "      <td>311.111111</td>\n",
       "      <td>1881.858610</td>\n",
       "    </tr>\n",
       "    <tr>\n",
       "      <th>8</th>\n",
       "      <td>355.555556</td>\n",
       "      <td>2132.831987</td>\n",
       "    </tr>\n",
       "    <tr>\n",
       "      <th>9</th>\n",
       "      <td>400.000000</td>\n",
       "      <td>2383.805363</td>\n",
       "    </tr>\n",
       "  </tbody>\n",
       "</table>\n",
       "</div>"
      ],
      "text/plain": [
       "   Presión (bar)  Temperatura (°K)\n",
       "0       0.000000        125.044975\n",
       "1      44.444444        376.018352\n",
       "2      88.888889        626.991728\n",
       "3     133.333333        877.965104\n",
       "4     177.777778       1128.938481\n",
       "5     222.222222       1379.911857\n",
       "6     266.666667       1630.885234\n",
       "7     311.111111       1881.858610\n",
       "8     355.555556       2132.831987\n",
       "9     400.000000       2383.805363"
      ]
     },
     "metadata": {},
     "output_type": "display_data"
    },
    {
     "name": "stdout",
     "output_type": "stream",
     "text": [
      "\n",
      "b.2) Valor de la temperatura (T) para 10 valores de volumen entre 0.1 L y 10 L para una presión de 220 bar:\n"
     ]
    },
    {
     "data": {
      "text/html": [
       "<div>\n",
       "<style scoped>\n",
       "    .dataframe tbody tr th:only-of-type {\n",
       "        vertical-align: middle;\n",
       "    }\n",
       "\n",
       "    .dataframe tbody tr th {\n",
       "        vertical-align: top;\n",
       "    }\n",
       "\n",
       "    .dataframe thead th {\n",
       "        text-align: right;\n",
       "    }\n",
       "</style>\n",
       "<table border=\"1\" class=\"dataframe\">\n",
       "  <thead>\n",
       "    <tr style=\"text-align: right;\">\n",
       "      <th></th>\n",
       "      <th>Volumen (L)</th>\n",
       "      <th>Temperatura (°K)</th>\n",
       "    </tr>\n",
       "  </thead>\n",
       "  <tbody>\n",
       "    <tr>\n",
       "      <th>0</th>\n",
       "      <td>0.1</td>\n",
       "      <td>571.234638</td>\n",
       "    </tr>\n",
       "    <tr>\n",
       "      <th>1</th>\n",
       "      <td>1.2</td>\n",
       "      <td>1612.249079</td>\n",
       "    </tr>\n",
       "    <tr>\n",
       "      <th>2</th>\n",
       "      <td>2.3</td>\n",
       "      <td>3018.573898</td>\n",
       "    </tr>\n",
       "    <tr>\n",
       "      <th>3</th>\n",
       "      <td>3.4</td>\n",
       "      <td>4455.968639</td>\n",
       "    </tr>\n",
       "    <tr>\n",
       "      <th>4</th>\n",
       "      <td>4.5</td>\n",
       "      <td>5901.989960</td>\n",
       "    </tr>\n",
       "    <tr>\n",
       "      <th>5</th>\n",
       "      <td>5.6</td>\n",
       "      <td>7351.613105</td>\n",
       "    </tr>\n",
       "    <tr>\n",
       "      <th>6</th>\n",
       "      <td>6.7</td>\n",
       "      <td>8803.080902</td>\n",
       "    </tr>\n",
       "    <tr>\n",
       "      <th>7</th>\n",
       "      <td>7.8</td>\n",
       "      <td>10255.619235</td>\n",
       "    </tr>\n",
       "    <tr>\n",
       "      <th>8</th>\n",
       "      <td>8.9</td>\n",
       "      <td>11708.833960</td>\n",
       "    </tr>\n",
       "    <tr>\n",
       "      <th>9</th>\n",
       "      <td>10.0</td>\n",
       "      <td>13162.503263</td>\n",
       "    </tr>\n",
       "  </tbody>\n",
       "</table>\n",
       "</div>"
      ],
      "text/plain": [
       "   Volumen (L)  Temperatura (°K)\n",
       "0          0.1        571.234638\n",
       "1          1.2       1612.249079\n",
       "2          2.3       3018.573898\n",
       "3          3.4       4455.968639\n",
       "4          4.5       5901.989960\n",
       "5          5.6       7351.613105\n",
       "6          6.7       8803.080902\n",
       "7          7.8      10255.619235\n",
       "8          8.9      11708.833960\n",
       "9         10.0      13162.503263"
      ]
     },
     "metadata": {},
     "output_type": "display_data"
    }
   ],
   "source": [
    "# Para los fines de esta actividad la librería \"pandas\" nos permitirá obtener una mejor visualización tanto del plantamiento como de los resultados del ejercicio.\n",
    "\n",
    "import pandas as pd\n",
    "\n",
    "P = 220 # bar \n",
    "n = 2 # mol \n",
    "V = 1 # L \n",
    "a = 5.536 # (L^2*bar)/mol^2 \n",
    "b = 0.03049 # L/mol\n",
    "R = 0.08314472 # Lbar/Kmol\n",
    "\n",
    "#a)\n",
    "\n",
    "# Despejamos T a partir de la fórmula dada\n",
    "\n",
    "T = lambda P, n, V, a, b, R: ((P+((pow(n,2)*a)/pow(V,2)))*(V-(n*b))/(n*R))\n",
    "\n",
    "print(\"a) La temperatura del vapor de agua es:\", T(P, n, V, a, b, R), \"°K\")\n",
    "      \n",
    "#b) \n",
    "\n",
    "#b.1)\n",
    "\n",
    "vP = np.linspace(0,400,10) # Rango de presiones\n",
    "\n",
    "vT1 = T(vP, n, V, a, b, R)\n",
    "\n",
    "datos_tbl_1 = {\"Presión (bar)\":vP, \"Temperatura (°K)\":vT1}\n",
    "tabla_1 = pd.DataFrame(datos_tbl_1)\n",
    "print(\"\\nb.1) Valor de la temperatura (T) para 10 valores de la presión de 0 a 400 bar para el volumen de 1L:\")\n",
    "display(tabla_1)\n",
    "\n",
    "#b.2)\n",
    "\n",
    "vV = np.linspace(0.1,10,10) # Rango de volúmenes\n",
    "\n",
    "vT2 = T(P, n, vV, a, b, R)\n",
    "\n",
    "datos_tbl_2 = {\"Volumen (L)\":vV, \"Temperatura (°K)\":vT2}\n",
    "tabla_2 = pd.DataFrame(datos_tbl_2)\n",
    "print(\"\\nb.2) Valor de la temperatura (T) para 10 valores de volumen entre 0.1 L y 10 L para una presión de 220 bar:\")\n",
    "display(tabla_2)"
   ]
  },
  {
   "cell_type": "markdown",
   "id": "a6b86230",
   "metadata": {},
   "source": [
    "### Actividad 13"
   ]
  },
  {
   "cell_type": "code",
   "execution_count": 16,
   "id": "b7389662",
   "metadata": {},
   "outputs": [
    {
     "name": "stdout",
     "output_type": "stream",
     "text": [
      "Tabla de conversión de libras a newtons:\n"
     ]
    },
    {
     "data": {
      "text/html": [
       "<div>\n",
       "<style scoped>\n",
       "    .dataframe tbody tr th:only-of-type {\n",
       "        vertical-align: middle;\n",
       "    }\n",
       "\n",
       "    .dataframe tbody tr th {\n",
       "        vertical-align: top;\n",
       "    }\n",
       "\n",
       "    .dataframe thead th {\n",
       "        text-align: right;\n",
       "    }\n",
       "</style>\n",
       "<table border=\"1\" class=\"dataframe\">\n",
       "  <thead>\n",
       "    <tr style=\"text-align: right;\">\n",
       "      <th></th>\n",
       "      <th>Libras (lb)</th>\n",
       "      <th>Newtons (N)</th>\n",
       "    </tr>\n",
       "  </thead>\n",
       "  <tbody>\n",
       "    <tr>\n",
       "      <th>0</th>\n",
       "      <td>0</td>\n",
       "      <td>0.00000</td>\n",
       "    </tr>\n",
       "    <tr>\n",
       "      <th>1</th>\n",
       "      <td>100</td>\n",
       "      <td>444.82216</td>\n",
       "    </tr>\n",
       "    <tr>\n",
       "      <th>2</th>\n",
       "      <td>200</td>\n",
       "      <td>889.64432</td>\n",
       "    </tr>\n",
       "    <tr>\n",
       "      <th>3</th>\n",
       "      <td>300</td>\n",
       "      <td>1334.46648</td>\n",
       "    </tr>\n",
       "    <tr>\n",
       "      <th>4</th>\n",
       "      <td>400</td>\n",
       "      <td>1779.28864</td>\n",
       "    </tr>\n",
       "    <tr>\n",
       "      <th>5</th>\n",
       "      <td>500</td>\n",
       "      <td>2224.11080</td>\n",
       "    </tr>\n",
       "    <tr>\n",
       "      <th>6</th>\n",
       "      <td>600</td>\n",
       "      <td>2668.93296</td>\n",
       "    </tr>\n",
       "    <tr>\n",
       "      <th>7</th>\n",
       "      <td>700</td>\n",
       "      <td>3113.75512</td>\n",
       "    </tr>\n",
       "    <tr>\n",
       "      <th>8</th>\n",
       "      <td>800</td>\n",
       "      <td>3558.57728</td>\n",
       "    </tr>\n",
       "    <tr>\n",
       "      <th>9</th>\n",
       "      <td>900</td>\n",
       "      <td>4003.39944</td>\n",
       "    </tr>\n",
       "    <tr>\n",
       "      <th>10</th>\n",
       "      <td>1000</td>\n",
       "      <td>4448.22160</td>\n",
       "    </tr>\n",
       "  </tbody>\n",
       "</table>\n",
       "</div>"
      ],
      "text/plain": [
       "    Libras (lb)  Newtons (N)\n",
       "0             0      0.00000\n",
       "1           100    444.82216\n",
       "2           200    889.64432\n",
       "3           300   1334.46648\n",
       "4           400   1779.28864\n",
       "5           500   2224.11080\n",
       "6           600   2668.93296\n",
       "7           700   3113.75512\n",
       "8           800   3558.57728\n",
       "9           900   4003.39944\n",
       "10         1000   4448.22160"
      ]
     },
     "metadata": {},
     "output_type": "display_data"
    }
   ],
   "source": [
    "lbs = np.arange(0,1001,100) # arange(n-inicial, n-final[exclusivo], tamaño de paso deseado)\n",
    "\n",
    "FC = 4.4482216 # El factor de conversión es 1 lb = 4.4482216 N\n",
    "\n",
    "newtons = lambda lbs: lbs*FC\n",
    "\n",
    "datos_tbl_conversion = {\"Libras (lb)\":lbs, \"Newtons (N)\":newtons(lbs)}\n",
    "tbl_conversion = pd.DataFrame(datos_tbl_conversion)\n",
    "print(\"Tabla de conversión de libras a newtons:\")\n",
    "display(tbl_conversion)"
   ]
  },
  {
   "cell_type": "markdown",
   "id": "07c43a4d",
   "metadata": {},
   "source": [
    "### Actividad 14"
   ]
  },
  {
   "cell_type": "code",
   "execution_count": 17,
   "id": "46d36411",
   "metadata": {},
   "outputs": [
    {
     "data": {
      "text/html": [
       "<div>\n",
       "<style scoped>\n",
       "    .dataframe tbody tr th:only-of-type {\n",
       "        vertical-align: middle;\n",
       "    }\n",
       "\n",
       "    .dataframe tbody tr th {\n",
       "        vertical-align: top;\n",
       "    }\n",
       "\n",
       "    .dataframe thead th {\n",
       "        text-align: right;\n",
       "    }\n",
       "</style>\n",
       "<table border=\"1\" class=\"dataframe\">\n",
       "  <thead>\n",
       "    <tr style=\"text-align: right;\">\n",
       "      <th></th>\n",
       "      <th>Año</th>\n",
       "      <th>Modelo</th>\n",
       "      <th>MPG</th>\n",
       "      <th>Litros por 100km</th>\n",
       "      <th>CO2 (1 año)</th>\n",
       "    </tr>\n",
       "  </thead>\n",
       "  <tbody>\n",
       "    <tr>\n",
       "      <th>0</th>\n",
       "      <td>2010</td>\n",
       "      <td>Smart Car Fortwo</td>\n",
       "      <td>37</td>\n",
       "      <td>6.357164</td>\n",
       "      <td>6291.891892</td>\n",
       "    </tr>\n",
       "    <tr>\n",
       "      <th>1</th>\n",
       "      <td>2010</td>\n",
       "      <td>Civic Coupe</td>\n",
       "      <td>29</td>\n",
       "      <td>8.110864</td>\n",
       "      <td>8027.586207</td>\n",
       "    </tr>\n",
       "    <tr>\n",
       "      <th>2</th>\n",
       "      <td>2010</td>\n",
       "      <td>Civic Hybrid</td>\n",
       "      <td>43</td>\n",
       "      <td>5.470118</td>\n",
       "      <td>5413.953488</td>\n",
       "    </tr>\n",
       "    <tr>\n",
       "      <th>3</th>\n",
       "      <td>2010</td>\n",
       "      <td>Chevrolet Cobalt</td>\n",
       "      <td>31</td>\n",
       "      <td>7.587582</td>\n",
       "      <td>7509.677419</td>\n",
       "    </tr>\n",
       "    <tr>\n",
       "      <th>4</th>\n",
       "      <td>2010</td>\n",
       "      <td>Toyota Prius (Hybrid)</td>\n",
       "      <td>48</td>\n",
       "      <td>4.900314</td>\n",
       "      <td>4850.000000</td>\n",
       "    </tr>\n",
       "    <tr>\n",
       "      <th>5</th>\n",
       "      <td>2010</td>\n",
       "      <td>Toyota Yaris</td>\n",
       "      <td>32</td>\n",
       "      <td>7.350471</td>\n",
       "      <td>7275.000000</td>\n",
       "    </tr>\n",
       "  </tbody>\n",
       "</table>\n",
       "</div>"
      ],
      "text/plain": [
       "    Año                 Modelo  MPG  Litros por 100km  CO2 (1 año)\n",
       "0  2010       Smart Car Fortwo   37          6.357164  6291.891892\n",
       "1  2010            Civic Coupe   29          8.110864  8027.586207\n",
       "2  2010           Civic Hybrid   43          5.470118  5413.953488\n",
       "3  2010       Chevrolet Cobalt   31          7.587582  7509.677419\n",
       "4  2010  Toyota Prius (Hybrid)   48          4.900314  4850.000000\n",
       "5  2010           Toyota Yaris   32          7.350471  7275.000000"
      ]
     },
     "metadata": {},
     "output_type": "display_data"
    }
   ],
   "source": [
    "año = np.array([2010,2010,2010,2010,2010,2010])\n",
    "modelo = np.array([\"Smart Car Fortwo\",\"Civic Coupe\",\"Civic Hybrid\",\"Chevrolet Cobalt\",\"Toyota Prius (Hybrid)\",\"Toyota Yaris\"])\n",
    "mpg = np.array([37,29,43,31,48,32]) # mpg significa millas por galón\n",
    "\n",
    "C02_x_galon = 19.4 # Quemar un galón de gasolina produce unas 19.4 libras de CO2\n",
    "millas_x_año = 12000 # Suponemos que los coches dados recorren 12,000 millas al año\n",
    "galones_consumidos = millas_x_año/mpg # Suponemos que los coches dados recorren 12,000 millas al año\n",
    "\n",
    "C02_x_año = C02_x_galon*galones_consumidos # Cantidad de CO2 emitida durante un año\n",
    "\n",
    "litros_x_galon = 3.78541 # El factor de conversión es 1 galón ≈ 3.78541 litros\n",
    "millas_x_km = 1.60934 # El factor de conversión es 1 milla ≈ 1.60934 km\n",
    "\n",
    "litros_x_100km = (litros_x_galon/(mpg*millas_x_km))*100 # Consumo en litros por 100 kilómetros\n",
    "\n",
    "datos_tbl_coches = {\"Año\":año, \"Modelo\":modelo, \"MPG\":mpg, \"Litros por 100km\":litros_x_100km, \"CO2 (1 año)\":C02_x_año}\n",
    "tbl_coches = pd.DataFrame(datos_tbl_coches)\n",
    "display(tbl_coches)"
   ]
  },
  {
   "cell_type": "markdown",
   "id": "67daab4f",
   "metadata": {},
   "source": [
    "### Actividad 15"
   ]
  },
  {
   "cell_type": "code",
   "execution_count": 18,
   "id": "edc61ac1",
   "metadata": {},
   "outputs": [
    {
     "name": "stdout",
     "output_type": "stream",
     "text": [
      "a) La fuerza de rozamiento que experimentará una masa de 2kg sobre una superficie de madera es de: 7.848000000000001 N\n",
      "\n",
      "b) Crear una tabla que muestre la fuerza de rozamiento para masas entre 1 y 5 kg sobre una superficie de madera:\n"
     ]
    },
    {
     "data": {
      "text/html": [
       "<div>\n",
       "<style scoped>\n",
       "    .dataframe tbody tr th:only-of-type {\n",
       "        vertical-align: middle;\n",
       "    }\n",
       "\n",
       "    .dataframe tbody tr th {\n",
       "        vertical-align: top;\n",
       "    }\n",
       "\n",
       "    .dataframe thead th {\n",
       "        text-align: right;\n",
       "    }\n",
       "</style>\n",
       "<table border=\"1\" class=\"dataframe\">\n",
       "  <thead>\n",
       "    <tr style=\"text-align: right;\">\n",
       "      <th></th>\n",
       "      <th>Masa (kg)</th>\n",
       "      <th>Fuerza de rozamiento (N)</th>\n",
       "    </tr>\n",
       "  </thead>\n",
       "  <tbody>\n",
       "    <tr>\n",
       "      <th>0</th>\n",
       "      <td>1.0</td>\n",
       "      <td>3.924</td>\n",
       "    </tr>\n",
       "    <tr>\n",
       "      <th>1</th>\n",
       "      <td>1.5</td>\n",
       "      <td>5.886</td>\n",
       "    </tr>\n",
       "    <tr>\n",
       "      <th>2</th>\n",
       "      <td>2.0</td>\n",
       "      <td>7.848</td>\n",
       "    </tr>\n",
       "    <tr>\n",
       "      <th>3</th>\n",
       "      <td>2.5</td>\n",
       "      <td>9.810</td>\n",
       "    </tr>\n",
       "    <tr>\n",
       "      <th>4</th>\n",
       "      <td>3.0</td>\n",
       "      <td>11.772</td>\n",
       "    </tr>\n",
       "    <tr>\n",
       "      <th>5</th>\n",
       "      <td>3.5</td>\n",
       "      <td>13.734</td>\n",
       "    </tr>\n",
       "    <tr>\n",
       "      <th>6</th>\n",
       "      <td>4.0</td>\n",
       "      <td>15.696</td>\n",
       "    </tr>\n",
       "    <tr>\n",
       "      <th>7</th>\n",
       "      <td>4.5</td>\n",
       "      <td>17.658</td>\n",
       "    </tr>\n",
       "    <tr>\n",
       "      <th>8</th>\n",
       "      <td>5.0</td>\n",
       "      <td>19.620</td>\n",
       "    </tr>\n",
       "  </tbody>\n",
       "</table>\n",
       "</div>"
      ],
      "text/plain": [
       "   Masa (kg)  Fuerza de rozamiento (N)\n",
       "0        1.0                     3.924\n",
       "1        1.5                     5.886\n",
       "2        2.0                     7.848\n",
       "3        2.5                     9.810\n",
       "4        3.0                    11.772\n",
       "5        3.5                    13.734\n",
       "6        4.0                    15.696\n",
       "7        4.5                    17.658\n",
       "8        5.0                    19.620"
      ]
     },
     "metadata": {},
     "output_type": "display_data"
    },
    {
     "name": "stdout",
     "output_type": "stream",
     "text": [
      "\n",
      "c) Crear una tabla que muestre la fuerza de rozamiento para masas entre 1 y 5 kg sobre madera, acero y cemento:\n"
     ]
    },
    {
     "data": {
      "text/html": [
       "<div>\n",
       "<style scoped>\n",
       "    .dataframe tbody tr th:only-of-type {\n",
       "        vertical-align: middle;\n",
       "    }\n",
       "\n",
       "    .dataframe tbody tr th {\n",
       "        vertical-align: top;\n",
       "    }\n",
       "\n",
       "    .dataframe thead th {\n",
       "        text-align: right;\n",
       "    }\n",
       "</style>\n",
       "<table border=\"1\" class=\"dataframe\">\n",
       "  <thead>\n",
       "    <tr style=\"text-align: right;\">\n",
       "      <th></th>\n",
       "      <th>Masa (kg)</th>\n",
       "      <th>Madera (N)</th>\n",
       "      <th>Acero (N)</th>\n",
       "      <th>Cemento (N)</th>\n",
       "    </tr>\n",
       "  </thead>\n",
       "  <tbody>\n",
       "    <tr>\n",
       "      <th>0</th>\n",
       "      <td>1.0</td>\n",
       "      <td>3.924</td>\n",
       "      <td>6.8670</td>\n",
       "      <td>9.810</td>\n",
       "    </tr>\n",
       "    <tr>\n",
       "      <th>1</th>\n",
       "      <td>1.5</td>\n",
       "      <td>5.886</td>\n",
       "      <td>10.3005</td>\n",
       "      <td>14.715</td>\n",
       "    </tr>\n",
       "    <tr>\n",
       "      <th>2</th>\n",
       "      <td>2.0</td>\n",
       "      <td>7.848</td>\n",
       "      <td>13.7340</td>\n",
       "      <td>19.620</td>\n",
       "    </tr>\n",
       "    <tr>\n",
       "      <th>3</th>\n",
       "      <td>2.5</td>\n",
       "      <td>9.810</td>\n",
       "      <td>17.1675</td>\n",
       "      <td>24.525</td>\n",
       "    </tr>\n",
       "    <tr>\n",
       "      <th>4</th>\n",
       "      <td>3.0</td>\n",
       "      <td>11.772</td>\n",
       "      <td>20.6010</td>\n",
       "      <td>29.430</td>\n",
       "    </tr>\n",
       "    <tr>\n",
       "      <th>5</th>\n",
       "      <td>3.5</td>\n",
       "      <td>13.734</td>\n",
       "      <td>24.0345</td>\n",
       "      <td>34.335</td>\n",
       "    </tr>\n",
       "    <tr>\n",
       "      <th>6</th>\n",
       "      <td>4.0</td>\n",
       "      <td>15.696</td>\n",
       "      <td>27.4680</td>\n",
       "      <td>39.240</td>\n",
       "    </tr>\n",
       "    <tr>\n",
       "      <th>7</th>\n",
       "      <td>4.5</td>\n",
       "      <td>17.658</td>\n",
       "      <td>30.9015</td>\n",
       "      <td>44.145</td>\n",
       "    </tr>\n",
       "    <tr>\n",
       "      <th>8</th>\n",
       "      <td>5.0</td>\n",
       "      <td>19.620</td>\n",
       "      <td>34.3350</td>\n",
       "      <td>49.050</td>\n",
       "    </tr>\n",
       "  </tbody>\n",
       "</table>\n",
       "</div>"
      ],
      "text/plain": [
       "   Masa (kg)  Madera (N)  Acero (N)  Cemento (N)\n",
       "0        1.0       3.924     6.8670        9.810\n",
       "1        1.5       5.886    10.3005       14.715\n",
       "2        2.0       7.848    13.7340       19.620\n",
       "3        2.5       9.810    17.1675       24.525\n",
       "4        3.0      11.772    20.6010       29.430\n",
       "5        3.5      13.734    24.0345       34.335\n",
       "6        4.0      15.696    27.4680       39.240\n",
       "7        4.5      17.658    30.9015       44.145\n",
       "8        5.0      19.620    34.3350       49.050"
      ]
     },
     "metadata": {},
     "output_type": "display_data"
    }
   ],
   "source": [
    "G = 9.81 # m/s^2\n",
    "\n",
    "u_madera = 0.4\n",
    "u_acero = 0.7\n",
    "u_cemento = 1\n",
    "\n",
    "Froz = lambda u, m: u*m*G # Froz = coeficiente de friccion*masa*gravedad\n",
    "\n",
    "#a) \n",
    "res_a = Froz(u_madera, 2)\n",
    "print(\"a) La fuerza de rozamiento que experimentará una masa de 2kg sobre una superficie de madera es de:\",res_a,\"N\\n\")\n",
    "\n",
    "#b) \n",
    "masa = np.linspace(1, 5, 9) # kg\n",
    "res_b = Froz(u_madera,masa)\n",
    "\n",
    "datos_tbl_b = {\"Masa (kg)\":masa, \"Fuerza de rozamiento (N)\":res_b}\n",
    "tbl_b = pd.DataFrame(datos_tbl_b)\n",
    "\n",
    "print(\"b) Crear una tabla que muestre la fuerza de rozamiento para masas entre 1 y 5 kg sobre una superficie de madera:\")\n",
    "display(tbl_b)\n",
    "\n",
    "#c) \n",
    "datos_madera = Froz(u_madera,masa)\n",
    "datos_acero = Froz(u_acero,masa)\n",
    "datos_cemento = Froz(u_cemento,masa)\n",
    "\n",
    "datos_tbl_c = {\"Masa (kg)\":masa, \"Madera (N)\":datos_madera, \"Acero (N)\":datos_acero, \"Cemento (N)\":datos_cemento}\n",
    "tbl_c = pd.DataFrame(datos_tbl_c)\n",
    "\n",
    "print(\"\\nc) Crear una tabla que muestre la fuerza de rozamiento para masas entre 1 y 5 kg sobre madera, acero y cemento:\")\n",
    "display(tbl_c)"
   ]
  },
  {
   "cell_type": "markdown",
   "id": "87ae45de",
   "metadata": {},
   "source": [
    "### Actividad 16"
   ]
  },
  {
   "cell_type": "code",
   "execution_count": 19,
   "id": "2c264168",
   "metadata": {},
   "outputs": [
    {
     "name": "stdout",
     "output_type": "stream",
     "text": [
      "a)\n"
     ]
    },
    {
     "data": {
      "text/html": [
       "<div>\n",
       "<style scoped>\n",
       "    .dataframe tbody tr th:only-of-type {\n",
       "        vertical-align: middle;\n",
       "    }\n",
       "\n",
       "    .dataframe tbody tr th {\n",
       "        vertical-align: top;\n",
       "    }\n",
       "\n",
       "    .dataframe thead th {\n",
       "        text-align: right;\n",
       "    }\n",
       "</style>\n",
       "<table border=\"1\" class=\"dataframe\">\n",
       "  <thead>\n",
       "    <tr style=\"text-align: right;\">\n",
       "      <th></th>\n",
       "      <th>Material</th>\n",
       "      <th>Resistividad (Ω/m)</th>\n",
       "      <th>Potencia (Watts)</th>\n",
       "    </tr>\n",
       "  </thead>\n",
       "  <tbody>\n",
       "    <tr>\n",
       "      <th>0</th>\n",
       "      <td>Plata</td>\n",
       "      <td>1.590000e-08</td>\n",
       "      <td>583.041852</td>\n",
       "    </tr>\n",
       "    <tr>\n",
       "      <th>1</th>\n",
       "      <td>Cobre</td>\n",
       "      <td>1.680000e-08</td>\n",
       "      <td>616.044221</td>\n",
       "    </tr>\n",
       "    <tr>\n",
       "      <th>2</th>\n",
       "      <td>Oro</td>\n",
       "      <td>2.440000e-08</td>\n",
       "      <td>894.730893</td>\n",
       "    </tr>\n",
       "    <tr>\n",
       "      <th>3</th>\n",
       "      <td>Aluminio</td>\n",
       "      <td>2.820000e-08</td>\n",
       "      <td>1034.074229</td>\n",
       "    </tr>\n",
       "    <tr>\n",
       "      <th>4</th>\n",
       "      <td>Hierro</td>\n",
       "      <td>1.000000e-07</td>\n",
       "      <td>3666.929889</td>\n",
       "    </tr>\n",
       "  </tbody>\n",
       "</table>\n",
       "</div>"
      ],
      "text/plain": [
       "   Material  Resistividad (Ω/m)  Potencia (Watts)\n",
       "0     Plata        1.590000e-08        583.041852\n",
       "1     Cobre        1.680000e-08        616.044221\n",
       "2       Oro        2.440000e-08        894.730893\n",
       "3  Aluminio        2.820000e-08       1034.074229\n",
       "4    Hierro        1.000000e-07       3666.929889"
      ]
     },
     "metadata": {},
     "output_type": "display_data"
    },
    {
     "name": "stdout",
     "output_type": "stream",
     "text": [
      "b)\n"
     ]
    },
    {
     "data": {
      "text/html": [
       "<div>\n",
       "<style scoped>\n",
       "    .dataframe tbody tr th:only-of-type {\n",
       "        vertical-align: middle;\n",
       "    }\n",
       "\n",
       "    .dataframe tbody tr th {\n",
       "        vertical-align: top;\n",
       "    }\n",
       "\n",
       "    .dataframe thead th {\n",
       "        text-align: right;\n",
       "    }\n",
       "</style>\n",
       "<table border=\"1\" class=\"dataframe\">\n",
       "  <thead>\n",
       "    <tr style=\"text-align: right;\">\n",
       "      <th></th>\n",
       "      <th>Longitud (m)</th>\n",
       "      <th>Plata (Watts)</th>\n",
       "      <th>Cobre (Watts)</th>\n",
       "      <th>Oro (Watts)</th>\n",
       "      <th>Aluminio (Watts)</th>\n",
       "      <th>Hierro (Watts)</th>\n",
       "    </tr>\n",
       "  </thead>\n",
       "  <tbody>\n",
       "    <tr>\n",
       "      <th>0</th>\n",
       "      <td>1.000000</td>\n",
       "      <td>291.520926</td>\n",
       "      <td>308.022111</td>\n",
       "      <td>447.365446</td>\n",
       "      <td>517.037114</td>\n",
       "      <td>1.833465e+03</td>\n",
       "    </tr>\n",
       "    <tr>\n",
       "      <th>1</th>\n",
       "      <td>2.154435</td>\n",
       "      <td>628.062796</td>\n",
       "      <td>663.613521</td>\n",
       "      <td>963.819637</td>\n",
       "      <td>1113.922695</td>\n",
       "      <td>3.950080e+03</td>\n",
       "    </tr>\n",
       "    <tr>\n",
       "      <th>2</th>\n",
       "      <td>4.641589</td>\n",
       "      <td>1353.120276</td>\n",
       "      <td>1429.711989</td>\n",
       "      <td>2076.486461</td>\n",
       "      <td>2399.873696</td>\n",
       "      <td>8.510190e+03</td>\n",
       "    </tr>\n",
       "    <tr>\n",
       "      <th>3</th>\n",
       "      <td>10.000000</td>\n",
       "      <td>2915.209262</td>\n",
       "      <td>3080.221107</td>\n",
       "      <td>4473.654464</td>\n",
       "      <td>5170.371143</td>\n",
       "      <td>1.833465e+04</td>\n",
       "    </tr>\n",
       "    <tr>\n",
       "      <th>4</th>\n",
       "      <td>21.544347</td>\n",
       "      <td>6280.627962</td>\n",
       "      <td>6636.135205</td>\n",
       "      <td>9638.196369</td>\n",
       "      <td>11139.226951</td>\n",
       "      <td>3.950080e+04</td>\n",
       "    </tr>\n",
       "    <tr>\n",
       "      <th>5</th>\n",
       "      <td>46.415888</td>\n",
       "      <td>13531.202756</td>\n",
       "      <td>14297.119894</td>\n",
       "      <td>20764.864607</td>\n",
       "      <td>23998.736964</td>\n",
       "      <td>8.510190e+04</td>\n",
       "    </tr>\n",
       "    <tr>\n",
       "      <th>6</th>\n",
       "      <td>100.000000</td>\n",
       "      <td>29152.092616</td>\n",
       "      <td>30802.211066</td>\n",
       "      <td>44736.544644</td>\n",
       "      <td>51703.711433</td>\n",
       "      <td>1.833465e+05</td>\n",
       "    </tr>\n",
       "    <tr>\n",
       "      <th>7</th>\n",
       "      <td>215.443469</td>\n",
       "      <td>62806.279619</td>\n",
       "      <td>66361.352051</td>\n",
       "      <td>96381.963693</td>\n",
       "      <td>111392.269514</td>\n",
       "      <td>3.950080e+05</td>\n",
       "    </tr>\n",
       "    <tr>\n",
       "      <th>8</th>\n",
       "      <td>464.158883</td>\n",
       "      <td>135312.027564</td>\n",
       "      <td>142971.198936</td>\n",
       "      <td>207648.646073</td>\n",
       "      <td>239987.369642</td>\n",
       "      <td>8.510190e+05</td>\n",
       "    </tr>\n",
       "    <tr>\n",
       "      <th>9</th>\n",
       "      <td>1000.000000</td>\n",
       "      <td>291520.926163</td>\n",
       "      <td>308022.110662</td>\n",
       "      <td>447365.446438</td>\n",
       "      <td>517037.114326</td>\n",
       "      <td>1.833465e+06</td>\n",
       "    </tr>\n",
       "  </tbody>\n",
       "</table>\n",
       "</div>"
      ],
      "text/plain": [
       "   Longitud (m)  Plata (Watts)  Cobre (Watts)    Oro (Watts)  \\\n",
       "0      1.000000     291.520926     308.022111     447.365446   \n",
       "1      2.154435     628.062796     663.613521     963.819637   \n",
       "2      4.641589    1353.120276    1429.711989    2076.486461   \n",
       "3     10.000000    2915.209262    3080.221107    4473.654464   \n",
       "4     21.544347    6280.627962    6636.135205    9638.196369   \n",
       "5     46.415888   13531.202756   14297.119894   20764.864607   \n",
       "6    100.000000   29152.092616   30802.211066   44736.544644   \n",
       "7    215.443469   62806.279619   66361.352051   96381.963693   \n",
       "8    464.158883  135312.027564  142971.198936  207648.646073   \n",
       "9   1000.000000  291520.926163  308022.110662  447365.446438   \n",
       "\n",
       "   Aluminio (Watts)  Hierro (Watts)  \n",
       "0        517.037114    1.833465e+03  \n",
       "1       1113.922695    3.950080e+03  \n",
       "2       2399.873696    8.510190e+03  \n",
       "3       5170.371143    1.833465e+04  \n",
       "4      11139.226951    3.950080e+04  \n",
       "5      23998.736964    8.510190e+04  \n",
       "6      51703.711433    1.833465e+05  \n",
       "7     111392.269514    3.950080e+05  \n",
       "8     239987.369642    8.510190e+05  \n",
       "9     517037.114326    1.833465e+06  "
      ]
     },
     "metadata": {},
     "output_type": "display_data"
    }
   ],
   "source": [
    "material = np.array([\"Plata\", \"Cobre\", \"Oro\", \"Aluminio\", \"Hierro\"])\n",
    "p_material = np.array([1.59e-8, 1.68e-8, 2.44e-8, 2.82e-8, 1.00e-7]) # (Ω/m)\n",
    "\n",
    "#a)\n",
    "\n",
    "I = 120 # Ω\n",
    "d = 0.001 # diámetro en m\n",
    "\n",
    "P = lambda p, l: (I**2)*p*(l/(np.pi*(d/2)**2)) # A(círculo) = pi(r^2)\n",
    "                                                 \n",
    "potencia = P(p_material, 2.00) # En este caso, longitud = 2.00 m\n",
    "\n",
    "datos_tbl_P = {\"Material\":material, \"Resistividad (Ω/m)\":p_material, \"Potencia (Watts)\":potencia}\n",
    "tbl_potencia = pd.DataFrame(datos_tbl_P)\n",
    "print(\"a)\")\n",
    "display(tbl_potencia)\n",
    "\n",
    "#b)\n",
    "\n",
    "longt_b = np.logspace(0,3,10) # np.logspace(0, 3, 10) nos genera un arreglo con 10 valores logarítmicamente espaciados en el rango desde 10^0 hasta 10^3 metros.\n",
    "longt_b = longt_b[:, np.newaxis]\n",
    "\n",
    "potencia_b = P(p_material, longt_b)\n",
    "\n",
    "datos_tbl_b = {\"Longitud (m)\":longt_b[:,0], \"Plata (Watts)\":potencia_b[:,0], \"Cobre (Watts)\":potencia_b[:,1], \"Oro (Watts)\":potencia_b[:,2], \"Aluminio (Watts)\":potencia_b[:,3], \"Hierro (Watts)\":potencia_b[:,4]}\n",
    "tbl_b = pd.DataFrame(datos_tbl_b)\n",
    "print(\"b)\")\n",
    "display(tbl_b)"
   ]
  },
  {
   "cell_type": "markdown",
   "id": "c8e2a12b",
   "metadata": {},
   "source": [
    "## Gráficos"
   ]
  },
  {
   "cell_type": "markdown",
   "id": "3825b867",
   "metadata": {},
   "source": [
    "### Actividad 17"
   ]
  },
  {
   "cell_type": "code",
   "execution_count": 20,
   "id": "077b6b7b",
   "metadata": {},
   "outputs": [
    {
     "data": {
      "image/png": "[encoded data removed]",
      "text/plain": [
       "<Figure size 640x480 with 1 Axes>"
      ]
     },
     "metadata": {},
     "output_type": "display_data"
    }
   ],
   "source": [
    "# Utilizar la librería matplotlib para graficar la función y = e^x entre -2 y 3\n",
    "\n",
    "import matplotlib.pyplot as plt\n",
    "import math as m\n",
    "\n",
    "x = np.linspace(-2,3)\n",
    "y = m.e**x\n",
    "\n",
    "plt.title ('Actividad 17')\n",
    "plt.xlabel ('Eje X')\n",
    "plt.ylabel ('Eje Y')\n",
    "plt.plot(x,y)\n",
    "plt.show()"
   ]
  },
  {
   "cell_type": "markdown",
   "id": "e14fb436",
   "metadata": {},
   "source": [
    "### Actividad 18"
   ]
  },
  {
   "cell_type": "code",
   "execution_count": 21,
   "id": "36b34218",
   "metadata": {},
   "outputs": [
    {
     "data": {
      "image/png": "[encoded data removed]",
      "text/plain": [
       "<Figure size 640x480 with 1 Axes>"
      ]
     },
     "metadata": {},
     "output_type": "display_data"
    }
   ],
   "source": [
    "#a)\n",
    "\n",
    "x = np.arange(0,2.1*m.pi,0.1*m.pi)\n",
    "\n",
    "y1 = np.sin(x)\n",
    "y2 = np.cos(x)\n",
    "\n",
    "plt.plot(x,y1,x,y2)\n",
    "\n",
    "plt.title(\"Actividad 18 (a)\")\n",
    "plt.show()"
   ]
  },
  {
   "cell_type": "code",
   "execution_count": 22,
   "id": "402e848a",
   "metadata": {},
   "outputs": [
    {
     "data": {
      "image/png": "[encoded data removed]",
      "text/plain": [
       "<Figure size 640x480 with 1 Axes>"
      ]
     },
     "metadata": {},
     "output_type": "display_data"
    }
   ],
   "source": [
    "#b)\n",
    "\n",
    "x = np.arange(0,2.1*m.pi,0.1*m.pi)\n",
    "\n",
    "y1 = np.sin(x)\n",
    "y2 = np.cos(x)\n",
    "\n",
    "plt.plot(x,y1,'r',x,y2,'--g')\n",
    "\n",
    "plt.title(\"Actividad 18 (b)\")\n",
    "plt.xlabel(\"Eje x\")\n",
    "plt.ylabel(\"Eje y\")\n",
    "plt.legend([\"Seno\",\"Coseno\"])\n",
    "\n",
    "plt.show()"
   ]
  },
  {
   "cell_type": "code",
   "execution_count": 23,
   "id": "5b036aba",
   "metadata": {},
   "outputs": [
    {
     "data": {
      "image/png": "[encoded data removed]",
      "text/plain": [
       "<Figure size 640x480 with 1 Axes>"
      ]
     },
     "metadata": {},
     "output_type": "display_data"
    }
   ],
   "source": [
    "#c)\n",
    "\n",
    "x = np.arange(0,2.1*m.pi,0.1*m.pi)\n",
    "\n",
    "y1 = np.sin(x)\n",
    "y2 = np.cos(x)\n",
    "\n",
    "plt.plot(x,y1,'r',x,y2,'--g')\n",
    "plt.axis([-1, 2*m.pi + 1, -1.5, 1.5])\n",
    "\n",
    "plt.title(\"Actividad 18 (c)\")\n",
    "plt.xlabel(\"Eje x\")\n",
    "plt.ylabel(\"Eje y\")\n",
    "plt.legend([\"Seno\",\"Coseno\"])\n",
    "\n",
    "plt.show()"
   ]
  },
  {
   "cell_type": "markdown",
   "id": "ae01ae39",
   "metadata": {},
   "source": [
    "### Actividad 19"
   ]
  },
  {
   "cell_type": "code",
   "execution_count": 24,
   "id": "a65df468",
   "metadata": {},
   "outputs": [
    {
     "data": {
      "image/png": "[encoded data removed]",
      "text/plain": [
       "<Figure size 640x480 with 6 Axes>"
      ]
     },
     "metadata": {},
     "output_type": "display_data"
    }
   ],
   "source": [
    "x = np.linspace(-2*m.pi, 2*m.pi, 8000)\n",
    "\n",
    "seno = np.sin(x)\n",
    "coseno = np.cos(x)\n",
    "tangente = np.tan(x) \n",
    "cosecante = 1/seno\n",
    "secante = 1/coseno\n",
    "cotangente = 1/tangente\n",
    "\n",
    "fig, axs = plt.subplots(3,2) # plt.subplots(filas, columnas)\n",
    "fig.suptitle(\"Actividad 19 - Funciones trigonométricas básicas:\")\n",
    "\n",
    "axs[0,0].plot(x,seno,'r')\n",
    "axs[0,1].plot(x,coseno,'b')\n",
    "axs[1,0].plot(x,tangente,'g')\n",
    "axs[1,1].plot(x,cotangente,'k')\n",
    "axs[2,0].plot(x,secante,'m')\n",
    "axs[2,1].plot(x,cosecante,'y')\n",
    "\n",
    "limite_x = (-7,7) # Dominio\n",
    "limite_y = (-20,20) # Rango\n",
    "\n",
    "plt.setp(axs, xlim = limite_x, ylim = limite_y)\n",
    "plt.show()"
   ]
  },
  {
   "cell_type": "markdown",
   "id": "7f06ca29",
   "metadata": {},
   "source": [
    "### Actividad 20"
   ]
  },
  {
   "cell_type": "code",
   "execution_count": 25,
   "id": "324567f8",
   "metadata": {},
   "outputs": [
    {
     "name": "stdout",
     "output_type": "stream",
     "text": [
      "a) Vector t: [0.  0.2 0.4 0.6 0.8 1.  1.2 1.4 1.6 1.8 2.  2.2 2.4 2.6 2.8 3.  3.2 3.4\n",
      " 3.6 3.8 4.  4.2 4.4 4.6 4.8 5. ] \n",
      "\n",
      "b)\n"
     ]
    },
    {
     "data": {
      "image/png": "[encoded data removed]",
      "text/plain": [
       "<Figure size 640x480 with 1 Axes>"
      ]
     },
     "metadata": {},
     "output_type": "display_data"
    },
    {
     "name": "stdout",
     "output_type": "stream",
     "text": [
      "c)\n"
     ]
    },
    {
     "data": {
      "image/png": "[encoded data removed]",
      "text/plain": [
       "<Figure size 640x480 with 1 Axes>"
      ]
     },
     "metadata": {},
     "output_type": "display_data"
    }
   ],
   "source": [
    "#a)\n",
    "\n",
    "t = np.arange(0,5.1,0.2) \n",
    "print(\"a) Vector t:\",t, \"\\n\")\n",
    "\n",
    "#b)\n",
    "\n",
    "y0 = 0\n",
    "v0 = 25 \n",
    "G = 9.8 # m/s^2\n",
    "\n",
    "y = y0+v0*t-(1/2)*G*t**2\n",
    "\n",
    "plt.plot(t,y,'r')\n",
    "print(\"b)\")\n",
    "plt.title(\"Gráfica de y respecto a t:\")\n",
    "plt.xlabel(\"Tiempo (s)\")\n",
    "plt.ylabel(\"Altura (m)\")\n",
    "plt.show()\n",
    "\n",
    "#c)\n",
    "\n",
    "datos_y = np.array([t,y])\n",
    "np.savetxt(\"datos.txt\", np.transpose(datos_y))\n",
    "\n",
    "load_datos_y = np.loadtxt(\"datos.txt\")\n",
    "\n",
    "plt.plot(load_datos_y[:,0], load_datos_y[:,1], \"y\")\n",
    "print(\"c)\")\n",
    "plt.title(\"Gráfica de y respecto a t:\")\n",
    "plt.xlabel(\"Tiempo (s)\")\n",
    "plt.ylabel(\"Altura (m)\")\n",
    "plt.show()"
   ]
  },
  {
   "cell_type": "markdown",
   "id": "f87449fe",
   "metadata": {},
   "source": [
    "### Actividad 21"
   ]
  },
  {
   "cell_type": "code",
   "execution_count": 26,
   "id": "72d61244",
   "metadata": {},
   "outputs": [
    {
     "name": "stdout",
     "output_type": "stream",
     "text": [
      "a) La fuerza que sufrirá de una masa de 75 kg que esté a una distancia de 6400000 m es de 729.1241455078125 N\n",
      "\n",
      "b)\n"
     ]
    },
    {
     "data": {
      "text/html": [
       "<div>\n",
       "<style scoped>\n",
       "    .dataframe tbody tr th:only-of-type {\n",
       "        vertical-align: middle;\n",
       "    }\n",
       "\n",
       "    .dataframe tbody tr th {\n",
       "        vertical-align: top;\n",
       "    }\n",
       "\n",
       "    .dataframe thead th {\n",
       "        text-align: right;\n",
       "    }\n",
       "</style>\n",
       "<table border=\"1\" class=\"dataframe\">\n",
       "  <thead>\n",
       "    <tr style=\"text-align: right;\">\n",
       "      <th></th>\n",
       "      <th>Distancia r (km)</th>\n",
       "      <th>Fuerza (N)</th>\n",
       "    </tr>\n",
       "  </thead>\n",
       "  <tbody>\n",
       "    <tr>\n",
       "      <th>0</th>\n",
       "      <td>6400.0</td>\n",
       "      <td>729.124146</td>\n",
       "    </tr>\n",
       "    <tr>\n",
       "      <th>1</th>\n",
       "      <td>6450.0</td>\n",
       "      <td>717.863710</td>\n",
       "    </tr>\n",
       "    <tr>\n",
       "      <th>2</th>\n",
       "      <td>6500.0</td>\n",
       "      <td>706.862130</td>\n",
       "    </tr>\n",
       "    <tr>\n",
       "      <th>3</th>\n",
       "      <td>6550.0</td>\n",
       "      <td>696.111532</td>\n",
       "    </tr>\n",
       "    <tr>\n",
       "      <th>4</th>\n",
       "      <td>6600.0</td>\n",
       "      <td>685.604339</td>\n",
       "    </tr>\n",
       "    <tr>\n",
       "      <th>...</th>\n",
       "      <td>...</td>\n",
       "      <td>...</td>\n",
       "    </tr>\n",
       "    <tr>\n",
       "      <th>76</th>\n",
       "      <td>10200.0</td>\n",
       "      <td>287.052336</td>\n",
       "    </tr>\n",
       "    <tr>\n",
       "      <th>77</th>\n",
       "      <td>10250.0</td>\n",
       "      <td>284.258656</td>\n",
       "    </tr>\n",
       "    <tr>\n",
       "      <th>78</th>\n",
       "      <td>10300.0</td>\n",
       "      <td>281.505561</td>\n",
       "    </tr>\n",
       "    <tr>\n",
       "      <th>79</th>\n",
       "      <td>10350.0</td>\n",
       "      <td>278.792271</td>\n",
       "    </tr>\n",
       "    <tr>\n",
       "      <th>80</th>\n",
       "      <td>10400.0</td>\n",
       "      <td>276.118020</td>\n",
       "    </tr>\n",
       "  </tbody>\n",
       "</table>\n",
       "<p>81 rows × 2 columns</p>\n",
       "</div>"
      ],
      "text/plain": [
       "    Distancia r (km)  Fuerza (N)\n",
       "0             6400.0  729.124146\n",
       "1             6450.0  717.863710\n",
       "2             6500.0  706.862130\n",
       "3             6550.0  696.111532\n",
       "4             6600.0  685.604339\n",
       "..               ...         ...\n",
       "76           10200.0  287.052336\n",
       "77           10250.0  284.258656\n",
       "78           10300.0  281.505561\n",
       "79           10350.0  278.792271\n",
       "80           10400.0  276.118020\n",
       "\n",
       "[81 rows x 2 columns]"
      ]
     },
     "metadata": {},
     "output_type": "display_data"
    },
    {
     "name": "stdout",
     "output_type": "stream",
     "text": [
      "c)\n"
     ]
    },
    {
     "data": {
      "image/png": "[encoded data removed]",
      "text/plain": [
       "<Figure size 640x480 with 1 Axes>"
      ]
     },
     "metadata": {},
     "output_type": "display_data"
    }
   ],
   "source": [
    "G = 6.67e-11 # Nm^2/kg^2\n",
    "M = 5.97e24 # kg\n",
    "\n",
    "F = lambda masa, r: G*((M*m)/(r**2))\n",
    "\n",
    "#a)\n",
    "\n",
    "m = 75 # kg\n",
    "r = 6400*1000 # m \n",
    "\n",
    "FS = F(m, r) # FS = Fuerza Sufrida\n",
    "print(f\"a) La fuerza que sufrirá de una masa de {m} kg que esté a una distancia de {r} m es de {FS} N\\n\")\n",
    "      \n",
    "#b)\n",
    "\n",
    "dist = np.arange(6400e3, 10400e3+1, 50e3) # m\n",
    "\n",
    "FS2 = F(m, dist)\n",
    "\n",
    "D = dist/1000 \n",
    "\n",
    "print(\"b)\")\n",
    "datos_tbl_F = {\"Distancia r (km)\":D, \"Fuerza (N)\":FS2}\n",
    "tbl_F = pd.DataFrame(datos_tbl_F)\n",
    "display(tbl_F)\n",
    "\n",
    "#c)\n",
    "\n",
    "plt.plot(datos_tbl_F[\"Distancia r (km)\"], datos_tbl_F[\"Fuerza (N)\"],\"g\")\n",
    "print(\"c)\")\n",
    "plt.title(\"Gráfica de F frente a r:\")\n",
    "plt.xlabel(\"Distancia r (km)\")\n",
    "plt.ylabel(\"Fuerza (N)\")\n",
    "plt.show()"
   ]
  },
  {
   "cell_type": "markdown",
   "id": "e2addb63",
   "metadata": {},
   "source": [
    "### Actividad 22"
   ]
  },
  {
   "cell_type": "code",
   "execution_count": 27,
   "id": "234c716b",
   "metadata": {},
   "outputs": [
    {
     "name": "stdout",
     "output_type": "stream",
     "text": [
      "Digite la magnitud en Coulombs de la carga q1: 1\n",
      "Digite la posición x de la carga q1: 2\n",
      "Digite la posición y de la carga q1: 3\n",
      "\n",
      "Digite la magnitud en Coulombs de la carga q2: 3\n",
      "Digite la posición x de la carga q2: 2\n",
      "Digite la posición y de la carga q2: 1\n",
      "\n",
      "a) La fuerza entre las cargas dadas es de: 6750000000.0 N\n"
     ]
    }
   ],
   "source": [
    "#a) Escribir un script que calcule la fuerza entre dos cargas dadas sus magnitudes y posiciones.\n",
    "\n",
    "import math as m\n",
    "\n",
    "k = 9e9 \n",
    "\n",
    "F = lambda q1, q2, r: k*(q1*q2)/(r**2)\n",
    "\n",
    "q1 = float(input(\"Digite la magnitud en Coulombs de la carga q1: \"))\n",
    "x1 = float(input(\"Digite la posición x de la carga q1: \"))\n",
    "y1 = float(input(\"Digite la posición y de la carga q1: \"))\n",
    "\n",
    "q2 = float(input(\"\\nDigite la magnitud en Coulombs de la carga q2: \"))\n",
    "x2 = float(input(\"Digite la posición x de la carga q2: \"))\n",
    "y2 = float(input(\"Digite la posición y de la carga q2: \"))\n",
    "\n",
    "D = m.sqrt((x2-x1)**2 + (y2-y1)**2) # Fórmula distancia entre dos puntos\n",
    "\n",
    "F_cargas = F(q1, q2, D)\n",
    "\n",
    "print(f\"\\na) La fuerza entre las cargas dadas es de: {F_cargas} N\")"
   ]
  },
  {
   "cell_type": "code",
   "execution_count": 28,
   "id": "dab6c53d",
   "metadata": {},
   "outputs": [
    {
     "name": "stdout",
     "output_type": "stream",
     "text": [
      "b) La fuerza entre las cargas definidas es de: 0.675 N\n"
     ]
    }
   ],
   "source": [
    "#b)\n",
    "\n",
    "q1 = 2e-5 # C\n",
    "x1 = 0 \n",
    "y1 = 0 \n",
    "\n",
    "q2 = 3e-5 # C\n",
    "x2 = 2 \n",
    "y2 = 2 \n",
    "\n",
    "D = m.sqrt((x2-x1)**2 + (y2-y1)**2)\n",
    "F_cargas = F(q1, q2, D)\n",
    "\n",
    "print(f\"b) La fuerza entre las cargas definidas es de: {F_cargas} N\")"
   ]
  },
  {
   "cell_type": "code",
   "execution_count": 29,
   "id": "f0baf78e",
   "metadata": {},
   "outputs": [
    {
     "name": "stdout",
     "output_type": "stream",
     "text": [
      "c)\n"
     ]
    },
    {
     "data": {
      "image/png": "[encoded data removed]",
      "text/plain": [
       "<Figure size 640x480 with 1 Axes>"
      ]
     },
     "metadata": {},
     "output_type": "display_data"
    }
   ],
   "source": [
    "#c)\n",
    "\n",
    "print(\"c)\")\n",
    "\n",
    "Cq1 = np.array([x1,y1])\n",
    "Cq2 = np.array([x2,y2])\n",
    "\n",
    "vector = (Cq2-Cq1)/(np.linalg.norm(Cq2-Cq1))\n",
    "\n",
    "plt.plot(Cq1[0],Cq1[1],'ob',Cq2[0],Cq2[1],'or',)\n",
    "\n",
    "plt.title(\"Gráfica: Fuerza de Coulomb\")\n",
    "plt.xlabel(\"Eje X\")\n",
    "plt.ylabel(\"Eje Y\")\n",
    "plt.legend([\"q1\",\"q2\"])\n",
    "\n",
    "plt.quiver(Cq1[0],Cq1[1],vector[0],vector[1],angles='xy',scale_units='xy',scale = 1)\n",
    "plt.quiver(Cq2[0],Cq2[1],-vector[0],-vector[1],angles='xy',scale_units='xy',scale = 1)\n",
    "\n",
    "plt.axis([-1, 3, -1, 3])\n",
    "plt.show()"
   ]
  }
 ],
 "metadata": {
  "kernelspec": {
   "display_name": "Python 3 (ipykernel)",
   "language": "python",
   "name": "python3"
  },
  "language_info": {
   "codemirror_mode": {
    "name": "ipython",
    "version": 3
   },
   "file_extension": ".py",
   "mimetype": "text/x-python",
   "name": "python",
   "nbconvert_exporter": "python",
   "pygments_lexer": "ipython3",
   "version": "3.11.4"
  }
 },
 "nbformat": 4,
 "nbformat_minor": 5
}
