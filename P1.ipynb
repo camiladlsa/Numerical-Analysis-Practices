{
 "cells": [
  {
   "cell_type": "markdown",
   "id": "2964819a",
   "metadata": {},
   "source": [
   ]
  },
  {
   "cell_type": "markdown",
   "id": "24dda099",
   "metadata": {},
   "source": [
    "# Práctica 1 - Introducción a Python"
   ]
  },
  {
   "cell_type": "markdown",
   "id": "6e597751",
   "metadata": {},
   "source": [
    "### Actividad 1"
   ]
  },
  {
   "cell_type": "code",
   "execution_count": 144,
   "id": "a67fce8e",
   "metadata": {},
   "outputs": [],
   "source": [
    "import math as m # Si sucede algún error, ejecutar este módulo primero y luego correr script"
   ]
  },
  {
   "cell_type": "code",
   "execution_count": 192,
   "id": "0c5b3217",
   "metadata": {},
   "outputs": [
    {
     "name": "stdout",
     "output_type": "stream",
     "text": [
      "1.7320508075688772\n"
     ]
    }
   ],
   "source": [
    "#a) \n",
    "a = m.sqrt(3)\n",
    "print(a)"
   ]
  },
  {
   "cell_type": "code",
   "execution_count": 193,
   "id": "89a309d7",
   "metadata": {},
   "outputs": [
    {
     "name": "stdout",
     "output_type": "stream",
     "text": [
      "-1.0\n"
     ]
    }
   ],
   "source": [
    "#b)\n",
    "b = m.cos(m.pi)\n",
    "print(b)"
   ]
  },
  {
   "cell_type": "code",
   "execution_count": 101,
   "id": "a18baea5",
   "metadata": {},
   "outputs": [
    {
     "name": "stdout",
     "output_type": "stream",
     "text": [
      "1.6094379124341003\n"
     ]
    }
   ],
   "source": [
    "#c)\n",
    "c = m.log(5)\n",
    "print(c)"
   ]
  },
  {
   "cell_type": "code",
   "execution_count": 30,
   "id": "35a19500",
   "metadata": {},
   "outputs": [
    {
     "name": "stdout",
     "output_type": "stream",
     "text": [
      "107878\n"
     ]
    }
   ],
   "source": [
    "#d) \n",
    "d = 124312-5478*3\n",
    "print(d)"
   ]
  },
  {
   "cell_type": "code",
   "execution_count": 35,
   "id": "c835e577",
   "metadata": {},
   "outputs": [
    {
     "name": "stdout",
     "output_type": "stream",
     "text": [
      "3.1058435015977324\n"
     ]
    }
   ],
   "source": [
    "#e) \n",
    "e = 17**0.4\n",
    "print(e)"
   ]
  },
  {
   "cell_type": "code",
   "execution_count": 36,
   "id": "bd08f1a1",
   "metadata": {},
   "outputs": [
    {
     "name": "stdout",
     "output_type": "stream",
     "text": [
      "4.972027972027972\n"
     ]
    }
   ],
   "source": [
    "#f)\n",
    "f = 711/143\n",
    "print(f)"
   ]
  },
  {
   "cell_type": "code",
   "execution_count": 37,
   "id": "9d53792e",
   "metadata": {},
   "outputs": [
    {
     "name": "stdout",
     "output_type": "stream",
     "text": [
      "0.16666666666666666\n"
     ]
    }
   ],
   "source": [
    "#g)\n",
    "g = 1/(2*3)\n",
    "print(g)"
   ]
  },
  {
   "cell_type": "code",
   "execution_count": 38,
   "id": "011c0fdc",
   "metadata": {},
   "outputs": [
    {
     "name": "stdout",
     "output_type": "stream",
     "text": [
      "1.0\n"
     ]
    }
   ],
   "source": [
    "#h)\n",
    "g = (5+3)/(9-1)\n",
    "print(g)"
   ]
  },
  {
   "cell_type": "code",
   "execution_count": 42,
   "id": "d7da9d7c",
   "metadata": {},
   "outputs": [
    {
     "name": "stdout",
     "output_type": "stream",
     "text": [
      "2.46301869964355\n"
     ]
    }
   ],
   "source": [
    "#i)\n",
    "i = m.exp(2)/3\n",
    "print(i)"
   ]
  },
  {
   "cell_type": "code",
   "execution_count": 44,
   "id": "4e5215a7",
   "metadata": {},
   "outputs": [
    {
     "name": "stdout",
     "output_type": "stream",
     "text": [
      "7.5\n"
     ]
    }
   ],
   "source": [
    "#j) \n",
    "j = m.exp2(3)-(4/(5+3))\n",
    "print(j)"
   ]
  },
  {
   "cell_type": "code",
   "execution_count": 48,
   "id": "734b8793",
   "metadata": {},
   "outputs": [
    {
     "name": "stdout",
     "output_type": "stream",
     "text": [
      "1114.092739632265\n"
     ]
    }
   ],
   "source": [
    "#k)\n",
    "k = 5**(m.pi+2)/(4-m.log10(3))\n",
    "print(k)"
   ]
  },
  {
   "cell_type": "code",
   "execution_count": 102,
   "id": "970a488b",
   "metadata": {},
   "outputs": [
    {
     "name": "stdout",
     "output_type": "stream",
     "text": [
      "135.0\n"
     ]
    }
   ],
   "source": [
    "#l)\n",
    "l = (5+6*(7/3)-m.exp2(2))/((2/3)*(3/(3*6)))\n",
    "print(l)"
   ]
  },
  {
   "cell_type": "markdown",
   "id": "eabe15e6",
   "metadata": {},
   "source": [
    "### Actividad 2"
   ]
  },
  {
   "cell_type": "code",
   "execution_count": 51,
   "id": "5871252d",
   "metadata": {},
   "outputs": [
    {
     "data": {
      "text/plain": [
       "-0.2260561342592593"
      ]
     },
     "execution_count": 51,
     "metadata": {},
     "output_type": "execute_result"
    }
   ],
   "source": [
    "f = lambda x: x/(x**2-1)**3\n",
    "f(1/5)"
   ]
  },
  {
   "cell_type": "markdown",
   "id": "27215cdb",
   "metadata": {},
   "source": [
    "### Actividad 3"
   ]
  },
  {
   "cell_type": "code",
   "execution_count": 52,
   "id": "fc43d260",
   "metadata": {},
   "outputs": [],
   "source": [
    "from fractions import Fraction"
   ]
  },
  {
   "cell_type": "code",
   "execution_count": 54,
   "id": "e08ecb92",
   "metadata": {},
   "outputs": [
    {
     "name": "stdout",
     "output_type": "stream",
     "text": [
      "22/21\n"
     ]
    }
   ],
   "source": [
    "#i)\n",
    "i = Fraction(1,3)+Fraction(5,7)\n",
    "print(i)"
   ]
  },
  {
   "cell_type": "code",
   "execution_count": 55,
   "id": "ff2217fe",
   "metadata": {},
   "outputs": [
    {
     "name": "stdout",
     "output_type": "stream",
     "text": [
      "512/125\n"
     ]
    }
   ],
   "source": [
    "#ii)\n",
    "ii = (1+Fraction(3,5))**3\n",
    "print(ii)"
   ]
  },
  {
   "cell_type": "markdown",
   "id": "8ccc8805",
   "metadata": {},
   "source": [
    "### Actividad 4"
   ]
  },
  {
   "cell_type": "code",
   "execution_count": 194,
   "id": "1e8ed850",
   "metadata": {},
   "outputs": [
    {
     "name": "stdout",
     "output_type": "stream",
     "text": [
      "Ingrese la cantidad de horas que desea calcular en segundos: 1\n",
      "La cantidad de horas ingresada '1' es equivalente a 3600 segundos.\n"
     ]
    }
   ],
   "source": [
    "# Solicitar al usuario la cantidad de horas\n",
    "cantidad_horas = int(input(\"Ingrese la cantidad de horas que desea calcular en segundos: \"))\n",
    "\n",
    "# Calcular los segundos correspondientes\n",
    "cantidad_segundos = cantidad_horas*3600 # 1 hora tiene 3600 segundos\n",
    "\n",
    "# Mostrar el resultado\n",
    "print(f\"La cantidad de horas ingresada '{cantidad_horas}' es equivalente a {cantidad_segundos} segundos.\")"
   ]
  },
  {
   "cell_type": "markdown",
   "id": "c14a12a0",
   "metadata": {},
   "source": [
    "### Actividad 5"
   ]
  },
  {
   "cell_type": "code",
   "execution_count": 187,
   "id": "a68b679e",
   "metadata": {},
   "outputs": [
    {
     "name": "stdout",
     "output_type": "stream",
     "text": [
      "La masa de la primera esfera es de: 3.288200310757317e-05 kg.\n",
      "La masa de la segunda esfera es de: 32882003.107573166 kg.\n"
     ]
    }
   ],
   "source": [
    "# Calcular la masa de dos esferas de acero de radios 1 mm (0.001 m) y 10 m. \n",
    "\n",
    "D_acero = 7850 # kg/m^3 (constante)\n",
    "\n",
    "masa = lambda r : D_acero*(4/3)*m.pi*r**3 \n",
    "\n",
    "masa1 = masa(0.001) \n",
    "masa2 = masa(10)\n",
    "\n",
    "print(f\"La masa de la primera esfera es de: {m1} kg.\")\n",
    "print(f\"La masa de la segunda esfera es de: {m2} kg.\")"
   ]
  },
  {
   "cell_type": "markdown",
   "id": "e536b380",
   "metadata": {},
   "source": [
    "### Actividad 6"
   ]
  },
  {
   "cell_type": "code",
   "execution_count": 186,
   "id": "6f343535",
   "metadata": {},
   "outputs": [
    {
     "name": "stdout",
     "output_type": "stream",
     "text": [
      "El período del péndulo es de: 5.674013413771549885211697983323 s.\n"
     ]
    }
   ],
   "source": [
    "import sympy as s\n",
    "\n",
    "G = 9.81 # m/s^2 (constante)\n",
    "\n",
    "T = lambda l: 2*m.pi*m.sqrt(l/G)\n",
    "\n",
    "Ans = s.N(T(8), n = 31) # n = 31 = 1 entero + 30 cifras decimales.\n",
    "\n",
    "print(f\"El período del péndulo es de: {Ans} s.\")"
   ]
  },
  {
   "cell_type": "markdown",
   "id": "e88d02a1",
   "metadata": {},
   "source": [
    "### Actividad 7"
   ]
  },
  {
   "cell_type": "code",
   "execution_count": 207,
   "id": "66570bf9",
   "metadata": {},
   "outputs": [
    {
     "name": "stdout",
     "output_type": "stream",
     "text": [
      "El área del primer triángulo es: 89.2500000000000\n",
      "El área del segundo triángulo es: 66.4264068711929\n"
     ]
    }
   ],
   "source": [
    "# Calcular el área de un triángulo definiendo las variables base y altura. \n",
    "\n",
    "x = s.Symbol('x')\n",
    "\n",
    "base = 12*x\n",
    "altura = 2*x+5\n",
    "\n",
    "area = (base*altura)/2 # Fórmula del área de un triángulo\n",
    "\n",
    "a1 = area.subs(x, 1.75) # Calcular el área para x = 1.75\n",
    "a2 = area.subs(x, m.sqrt(2)) # Calcular el área para x = sqrt(2)\n",
    "\n",
    "print(f\"El área del primer triángulo es: {a1}\")\n",
    "print(f\"El área del segundo triángulo es: {a2}\")"
   ]
  },
  {
   "cell_type": "markdown",
   "id": "81631c96",
   "metadata": {},
   "source": [
    "### Actividad 8"
   ]
  },
  {
   "cell_type": "code",
   "execution_count": 167,
   "id": "4042ed57",
   "metadata": {},
   "outputs": [
    {
     "name": "stdout",
     "output_type": "stream",
     "text": [
      "El área del primer triángulo es: 89.2500000000000\n",
      "El área del segundo triángulo es: 66.4264068711929\n"
     ]
    }
   ],
   "source": [
    "# Calcular el área de un triángulo definiendo las variables base y altura (lambda)\n",
    "\n",
    "x = s.Symbol('x')\n",
    "\n",
    "base = 12*x\n",
    "altura = 2*x+5\n",
    "\n",
    "area = lambda base, altura : (base*altura)/2 # Fórmula del área de un triángulo\n",
    "\n",
    "a1 = area(base, altura).subs(x, 1.75) # Calcular el área para x = 1.75\n",
    "a2 = area(base, altura).subs(x, m.sqrt(2)) # Calcular el área para x = sqrt(2)\n",
    "\n",
    "print(f\"El área del primer triángulo es: {a1}\")\n",
    "print(f\"El área del segundo triángulo es: {a2}\")"
   ]
  },
  {
   "cell_type": "markdown",
   "id": "86fdd7d7",
   "metadata": {},
   "source": [
    "### Actividad 9"
   ]
  },
  {
   "cell_type": "code",
   "execution_count": 171,
   "id": "f1dddabf",
   "metadata": {},
   "outputs": [
    {
     "name": "stdout",
     "output_type": "stream",
     "text": [
      "Requirement already satisfied: pycryptodome in c:\\users\\user\\anaconda3\\lib\\site-packages (3.18.0)\n",
      "Note: you may need to restart the kernel to use updated packages.\n"
     ]
    }
   ],
   "source": [
    "pip install pycryptodome"
   ]
  },
  {
   "cell_type": "code",
   "execution_count": 173,
   "id": "32b1e238",
   "metadata": {},
   "outputs": [],
   "source": [
    "from Crypto.Util.number import isPrime\n",
    "from Crypto.Util.number import GCD"
   ]
  },
  {
   "cell_type": "code",
   "execution_count": 181,
   "id": "93eb9acc",
   "metadata": {},
   "outputs": [
    {
     "name": "stdout",
     "output_type": "stream",
     "text": [
      "El residuo 17 es primo.\n"
     ]
    }
   ],
   "source": [
    "#a) Determinar si el residuo de dividir 89 entre 18 es primo o no.\n",
    "\n",
    "res = 89%18\n",
    "ans = isPrime(res)\n",
    "\n",
    "if(ans == True):\n",
    "    print(f\"El residuo {res} es primo.\")\n",
    "else:\n",
    "    print(f\"El residuo {res} NO es primo.\")"
   ]
  },
  {
   "cell_type": "code",
   "execution_count": 182,
   "id": "d7e8ead1",
   "metadata": {},
   "outputs": [
    {
     "name": "stdout",
     "output_type": "stream",
     "text": [
      "El máximo común divisor es: 7\n"
     ]
    }
   ],
   "source": [
    "#b) Determinar el máximo común divisor de 14 y 35.\n",
    "\n",
    "MCD = GCD(14,35)\n",
    "print(f\"El máximo común divisor es: {MCD}\")"
   ]
  },
  {
   "cell_type": "code",
   "execution_count": null,
   "id": "0d3da367",
   "metadata": {},
   "outputs": [],
   "source": []
  }
 ],
 "metadata": {
  "kernelspec": {
   "display_name": "Python 3 (ipykernel)",
   "language": "python",
   "name": "python3"
  },
  "language_info": {
   "codemirror_mode": {
    "name": "ipython",
    "version": 3
   },
   "file_extension": ".py",
   "mimetype": "text/x-python",
   "name": "python",
   "nbconvert_exporter": "python",
   "pygments_lexer": "ipython3",
   "version": "3.11.4"
  }
 },
 "nbformat": 4,
 "nbformat_minor": 5
}
